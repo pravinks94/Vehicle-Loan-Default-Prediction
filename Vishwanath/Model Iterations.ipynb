{
 "cells": [
  {
   "cell_type": "code",
   "execution_count": 1,
   "metadata": {},
   "outputs": [
    {
     "name": "stderr",
     "output_type": "stream",
     "text": [
      "Using TensorFlow backend.\n"
     ]
    }
   ],
   "source": [
    "import pandas as pd\n",
    "import numpy as np\n",
    "import seaborn as sns\n",
    "import matplotlib.pyplot as plt\n",
    "import re\n",
    "from sklearn.preprocessing import LabelEncoder,StandardScaler\n",
    "from sklearn.impute import KNNImputer\n",
    "from sklearn.model_selection import KFold\n",
    "from sklearn.model_selection import train_test_split,cross_val_score\n",
    "#model selection from sklearn import model_selection\n",
    "from sklearn.linear_model import LogisticRegression\n",
    "from sklearn.naive_bayes import GaussianNB\n",
    "from sklearn.tree import DecisionTreeClassifier\n",
    "from sklearn.neighbors import KNeighborsClassifier\n",
    "#ensemble\n",
    "from sklearn.ensemble import RandomForestClassifier,BaggingClassifier,AdaBoostClassifier,GradientBoostingClassifier\n",
    "#metrics\n",
    "from sklearn.metrics import precision_score, recall_score, f1_score, roc_auc_score, accuracy_score, classification_report\n",
    "#pca\n",
    "from sklearn.decomposition import PCA\n",
    "#data_balance\n",
    "from sklearn.utils import resample\n",
    "from imblearn.over_sampling import SMOTE\n",
    "#warnings\n",
    "import warnings\n",
    "warnings.filterwarnings(\"ignore\")"
   ]
  },
  {
   "cell_type": "code",
   "execution_count": 2,
   "metadata": {},
   "outputs": [],
   "source": [
    "import os\n",
    "os.chdir(r'C:\\Users\\VISHY\\Desktop\\Great Learning\\Capstone\\Vehicle-Loan-Default-Prediction\\Data')\n",
    "\n",
    "df = pd.read_csv('train.csv')\n",
    "\n",
    "df=df.drop(['UniqueID', 'branch_id','supplier_id', 'Current_pincode_ID','State_ID', 'Employee_code_ID', 'MobileNo_Avl_Flag'],axis=1)"
   ]
  },
  {
   "cell_type": "code",
   "execution_count": 3,
   "metadata": {},
   "outputs": [],
   "source": [
    "def credit_risk(df):\n",
    "    d1=[]\n",
    "    d2=[]\n",
    "    for i in df:\n",
    "        p = i.split(\"-\")\n",
    "        if len(p) == 1:\n",
    "            d1.append(p[0])\n",
    "            d2.append('unknown')\n",
    "        else:\n",
    "            d1.append(p[1])\n",
    "            d2.append(p[0])\n",
    "\n",
    "    return d1,d2\n",
    "\n",
    "risk_map = {'No Bureau History Available':-1, \n",
    "              'Not Scored: No Activity seen on the customer (Inactive)':-1,\n",
    "              'Not Scored: Sufficient History Not Available':-1,\n",
    "              'Not Scored: No Updates available in last 36 months':-1,\n",
    "              'Not Scored: Only a Guarantor':-1,\n",
    "              'Not Scored: More than 50 active Accounts found':-1,\n",
    "              'Not Scored: Not Enough Info available on the customer':-1,\n",
    "              'Very Low Risk':4,\n",
    "              'Low Risk':3,\n",
    "              'Medium Risk':2, \n",
    "              'High Risk':1,\n",
    "              'Very High Risk':0}\n",
    "\n",
    "sub_risk = {'unknown':-1, 'A':13, 'B':12, 'C':11,'D':10,'E':9,'F':8,'G':7,'H':6,'I':5,'J':4,'K':3, 'L':2,'M':1}\n",
    "employment_map = {'Self employed':0, 'Salaried':1,np.nan:2}\n",
    "\n",
    "df.loc[:,'credit_risk'],df.loc[:,'credit_risk_grade']  = credit_risk(df[\"PERFORM_CNS.SCORE.DESCRIPTION\"])\n",
    "df.loc[:,'credit_risk_label'] = df['credit_risk'].apply(lambda x: risk_map[x])\n",
    "df.loc[:,'sub_risk_label'] = df['credit_risk_grade'].apply(lambda x: sub_risk[x])\n",
    "\n",
    "df.loc[:,'employment_label'] = df['Employment.Type'].apply(lambda x: employment_map[x])\n",
    "\n",
    "df=df.drop(['PERFORM_CNS.SCORE.DESCRIPTION', 'credit_risk', 'credit_risk_grade','Employment.Type'],axis=1)"
   ]
  },
  {
   "cell_type": "code",
   "execution_count": 4,
   "metadata": {},
   "outputs": [],
   "source": [
    "df.loc[:,'no_of_accts'] = df['PRI.NO.OF.ACCTS'] + df['SEC.NO.OF.ACCTS']\n",
    "\n",
    "df.loc[:,'pri_inactive_accts'] = df['PRI.NO.OF.ACCTS'] - df['PRI.ACTIVE.ACCTS']\n",
    "df.loc[:,'sec_inactive_accts'] = df['SEC.NO.OF.ACCTS'] - df['SEC.ACTIVE.ACCTS']\n",
    "df.loc[:,'tot_inactive_accts'] = df['pri_inactive_accts'] + df['sec_inactive_accts']\n",
    "df.loc[:,'tot_overdue_accts'] = df['PRI.OVERDUE.ACCTS'] + df['SEC.OVERDUE.ACCTS']\n",
    "df.loc[:,'tot_current_balance'] = df['PRI.CURRENT.BALANCE'] + df['SEC.CURRENT.BALANCE']\n",
    "df.loc[:,'tot_sanctioned_amount'] = df['PRI.SANCTIONED.AMOUNT'] + df['SEC.SANCTIONED.AMOUNT']\n",
    "df.loc[:,'tot_disbursed_amount'] = df['PRI.DISBURSED.AMOUNT'] + df['SEC.DISBURSED.AMOUNT']\n",
    "df.loc[:,'tot_installment'] = df['PRIMARY.INSTAL.AMT'] + df['SEC.INSTAL.AMT']"
   ]
  },
  {
   "cell_type": "code",
   "execution_count": 5,
   "metadata": {},
   "outputs": [],
   "source": [
    "def duration(dur):\n",
    "    yrs = int(dur.split(' ')[0].replace('yrs',''))\n",
    "    mon = int(dur.split(' ')[1].replace('mon',''))\n",
    "    return yrs*12+mon"
   ]
  },
  {
   "cell_type": "code",
   "execution_count": 6,
   "metadata": {},
   "outputs": [],
   "source": [
    "df['AVERAGE.ACCT.AGE'] = df['AVERAGE.ACCT.AGE'].apply(duration)\n",
    "df['CREDIT.HISTORY.LENGTH'] = df['CREDIT.HISTORY.LENGTH'].apply(duration)\n",
    "#df.drop(['AVERAGE.ACCT.AGE','CREDIT.HISTORY.LENGTH'],axis=1,inplace=True)"
   ]
  },
  {
   "cell_type": "code",
   "execution_count": 7,
   "metadata": {},
   "outputs": [],
   "source": [
    "def age(dur):\n",
    "    yr = int(dur.split('-')[2])\n",
    "    if yr >=0 and yr<=19:\n",
    "        return yr+2000\n",
    "    else:\n",
    "         return yr+1900\n",
    "\n",
    "df['Date.of.Birth'] = df['Date.of.Birth'].apply(age)\n",
    "df['DisbursalDate'] = df['DisbursalDate'].apply(age)\n",
    "df['Age']=df['DisbursalDate']-df['Date.of.Birth']\n",
    "df=df.drop(['DisbursalDate','Date.of.Birth'],axis=1)"
   ]
  },
  {
   "cell_type": "code",
   "execution_count": 8,
   "metadata": {},
   "outputs": [],
   "source": [
    "y=df['loan_default']\n",
    "x=df.drop('loan_default',axis=1)"
   ]
  },
  {
   "cell_type": "code",
   "execution_count": 9,
   "metadata": {},
   "outputs": [],
   "source": [
    "sm = SMOTE(random_state=2)\n",
    "x, y = sm.fit_sample(x, y.ravel())"
   ]
  },
  {
   "cell_type": "code",
   "execution_count": 12,
   "metadata": {},
   "outputs": [
    {
     "data": {
      "text/plain": [
       "<matplotlib.axes._subplots.AxesSubplot at 0x14e5e91a608>"
      ]
     },
     "execution_count": 12,
     "metadata": {},
     "output_type": "execute_result"
    },
    {
     "data": {
      "image/png": "[encoded data removed]",
      "text/plain": [
       "<Figure size 432x288 with 1 Axes>"
      ]
     },
     "metadata": {
      "needs_background": "light"
     },
     "output_type": "display_data"
    }
   ],
   "source": [
    "sns.countplot(df['loan_default'])"
   ]
  },
  {
   "cell_type": "code",
   "execution_count": 11,
   "metadata": {},
   "outputs": [
    {
     "data": {
      "text/plain": [
       "<matplotlib.axes._subplots.AxesSubplot at 0x14e5e821288>"
      ]
     },
     "execution_count": 11,
     "metadata": {},
     "output_type": "execute_result"
    },
    {
     "data": {
      "image/png": "[encoded data removed]",
      "text/plain": [
       "<Figure size 432x288 with 1 Axes>"
      ]
     },
     "metadata": {
      "needs_background": "light"
     },
     "output_type": "display_data"
    }
   ],
   "source": [
    "sns.countplot(y)"
   ]
  },
  {
   "cell_type": "code",
   "execution_count": 95,
   "metadata": {},
   "outputs": [],
   "source": [
    "from sklearn.preprocessing import StandardScaler\n",
    "sc=StandardScaler()\n",
    "xs=sc.fit_transform(x)"
   ]
  },
  {
   "cell_type": "code",
   "execution_count": 96,
   "metadata": {},
   "outputs": [],
   "source": [
    "X_train, X_test, y_train, y_test = train_test_split(xs, y, test_size=0.30, random_state=42)"
   ]
  },
  {
   "cell_type": "code",
   "execution_count": null,
   "metadata": {},
   "outputs": [],
   "source": [
    "from sklearn.neighbors import KNeighborsClassifier\n",
    "from sklearn.linear_model import LogisticRegression\n",
    "from sklearn.naive_bayes import GaussianNB\n",
    "from sklearn.tree import DecisionTreeClassifier\n",
    "from sklearn.ensemble import RandomForestClassifier\n",
    "from sklearn.ensemble import BaggingClassifier\n",
    "from sklearn.ensemble import AdaBoostClassifier\n",
    "from sklearn.ensemble import GradientBoostingClassifier\n",
    "from sklearn.ensemble import VotingClassifier"
   ]
  },
  {
   "cell_type": "code",
   "execution_count": 13,
   "metadata": {},
   "outputs": [],
   "source": [
    "lr=LogisticRegression()\n",
    "nb= GaussianNB()\n",
    "knn=KNeighborsClassifier()\n",
    "#dt=DecisionTreeClassifier(random_state=0, criterion='entropy')\n",
    "#ranforest=RandomForestClassifier(random_state=0,n_estimators=43,criterion='gini')\n",
    "#bag=BaggingClassifier(n_estimators=26, random_state=0)\n",
    "#adab=AdaBoostClassifier(n_estimators=10)\n",
    "#adabLog=AdaBoostClassifier(base_estimator=lr,n_estimators=5)\n",
    "#gb=GradientBoostingClassifier(n_estimators=55)"
   ]
  },
  {
   "cell_type": "code",
   "execution_count": 98,
   "metadata": {
    "scrolled": true
   },
   "outputs": [
    {
     "name": "stdout",
     "output_type": "stream",
     "text": [
      "1 0.008648236391435903\n",
      "2 0.02265465987030196\n",
      "3 0.013026850639533002\n",
      "4 0.02386241092285923\n",
      "5 0.015464493951098904\n",
      "6 0.02406239922505945\n",
      "7 0.01717104226516953\n",
      "8 0.024219849794049335\n",
      "9 0.01831375802085527\n",
      "10 0.02448948010158176\n",
      "11 0.01944208253465902\n",
      "12 0.024584008002941575\n",
      "13 0.02010504090774504\n",
      "14 0.024645154234175216\n",
      "15 0.0205082376232121\n",
      "16 0.02450844095828984\n",
      "17 0.02094559723538421\n",
      "18 0.0246534395619105\n",
      "19 0.021258405228966035\n",
      "20 0.024555092985455353\n"
     ]
    }
   ],
   "source": [
    "var=[]\n",
    "for i in np.arange(1,21):\n",
    "    kf = KFold(n_splits=3, shuffle=True, random_state=0)\n",
    "    random = RandomForestClassifier(criterion='entropy',n_estimators=i,random_state=0)\n",
    "    scores=cross_val_score(random,xs,y,cv=3,scoring='f1_weighted')\n",
    "    var.append(np.var(scores,ddof=1))\n",
    "    print(i, np.var(scores,ddof=1))"
   ]
  },
  {
   "cell_type": "code",
   "execution_count": 99,
   "metadata": {},
   "outputs": [
    {
     "data": {
      "text/plain": [
       "<matplotlib.lines.Line2D at 0x26a0aa9da48>"
      ]
     },
     "execution_count": 99,
     "metadata": {},
     "output_type": "execute_result"
    },
    {
     "data": {
      "image/png": "[encoded data removed]",
      "text/plain": [
       "<Figure size 432x288 with 1 Axes>"
      ]
     },
     "metadata": {
      "needs_background": "light"
     },
     "output_type": "display_data"
    }
   ],
   "source": [
    "plt.plot(var)\n",
    "plt.axhline(y=np.min(var))\n",
    "np.min(var)\n",
    "xx=np.arange(0,51)\n",
    "max_x = xx[var.index(np.min(var))]\n",
    "plt.axvline(max_x,color='r')"
   ]
  },
  {
   "cell_type": "code",
   "execution_count": 100,
   "metadata": {},
   "outputs": [
    {
     "data": {
      "text/plain": [
       "GridSearchCV(cv=3, error_score=nan,\n",
       "             estimator=RandomForestClassifier(bootstrap=True, ccp_alpha=0.0,\n",
       "                                              class_weight=None,\n",
       "                                              criterion='gini', max_depth=None,\n",
       "                                              max_features='auto',\n",
       "                                              max_leaf_nodes=None,\n",
       "                                              max_samples=None,\n",
       "                                              min_impurity_decrease=0.0,\n",
       "                                              min_impurity_split=None,\n",
       "                                              min_samples_leaf=1,\n",
       "                                              min_samples_split=2,\n",
       "                                              min_weight_fraction_leaf=0.0,\n",
       "                                              n_estimators=1, n_jobs=None,\n",
       "                                              oob_score=False, random_state=0,\n",
       "                                              verbose=0, warm_start=False),\n",
       "             iid='deprecated', n_jobs=None,\n",
       "             param_grid={'criterion': ['entropy', 'gini']},\n",
       "             pre_dispatch='2*n_jobs', refit=True, return_train_score=False,\n",
       "             scoring='f1_weighted', verbose=0)"
      ]
     },
     "execution_count": 100,
     "metadata": {},
     "output_type": "execute_result"
    }
   ],
   "source": [
    "from sklearn.model_selection import GridSearchCV\n",
    "params={'criterion':['entropy','gini']}\n",
    "ranforest=RandomForestClassifier(n_estimators=1,random_state=0)\n",
    "grid=GridSearchCV(ranforest, params, cv=3, scoring='f1_weighted')\n",
    "grid.fit(xs,y)"
   ]
  },
  {
   "cell_type": "code",
   "execution_count": 101,
   "metadata": {},
   "outputs": [
    {
     "name": "stdout",
     "output_type": "stream",
     "text": [
      "0.6910545967339704\n",
      "{'criterion': 'entropy'}\n"
     ]
    }
   ],
   "source": [
    "print(grid.best_score_)\n",
    "print(grid.best_params_)"
   ]
  },
  {
   "cell_type": "code",
   "execution_count": 102,
   "metadata": {
    "run_control": {
     "marked": true
    }
   },
   "outputs": [
    {
     "data": {
      "text/plain": [
       "0.7668042291328087"
      ]
     },
     "execution_count": 102,
     "metadata": {},
     "output_type": "execute_result"
    }
   ],
   "source": [
    "rf=RandomForestClassifier(n_estimators=5,random_state=0, criterion='entropy')"
   ]
  },
  {
   "cell_type": "code",
   "execution_count": 105,
   "metadata": {},
   "outputs": [
    {
     "name": "stdout",
     "output_type": "stream",
     "text": [
      "1 6.671109178491057e-07\n",
      "2 8.240710323592161e-07\n",
      "3 3.143802387301405e-07\n",
      "4 2.1018623107860446e-07\n",
      "5 5.048825018790187e-07\n",
      "6 1.3597129661048715e-07\n",
      "7 2.280473359876397e-08\n",
      "8 9.904363651958438e-08\n",
      "9 1.4349403763820084e-07\n",
      "10 1.3564759747700236e-07\n",
      "11 1.3703226471138712e-07\n",
      "12 1.0890394431102687e-07\n",
      "13 4.985357007815935e-07\n",
      "14 2.3294799836536535e-07\n",
      "15 2.718771828017704e-07\n",
      "16 1.2376290632605604e-07\n",
      "17 1.4089622308053458e-07\n",
      "18 4.844475574425065e-07\n",
      "19 3.330044832700756e-07\n",
      "20 1.9617228186477665e-06\n"
     ]
    }
   ],
   "source": [
    "scores=[]\n",
    "for i in np.arange(1,21):\n",
    "    kf = KFold(n_splits=3, shuffle=True, random_state=0)\n",
    "    bag = BaggingClassifier(n_estimators=i, random_state=0)\n",
    "    results = cross_val_score(bag, xs, y, cv=kf)\n",
    "    scores.append(np.var(results,ddof=1))\n",
    "    print(i, np.var(results,ddof=1))"
   ]
  },
  {
   "cell_type": "code",
   "execution_count": 107,
   "metadata": {},
   "outputs": [
    {
     "data": {
      "text/plain": [
       "<matplotlib.lines.Line2D at 0x26a474debc8>"
      ]
     },
     "execution_count": 107,
     "metadata": {},
     "output_type": "execute_result"
    },
    {
     "data": {
      "image/png": "[encoded data removed]",
      "text/plain": [
       "<Figure size 432x288 with 1 Axes>"
      ]
     },
     "metadata": {
      "needs_background": "light"
     },
     "output_type": "display_data"
    }
   ],
   "source": [
    "xx=np.arange(0,51)\n",
    "plt.plot(scores)\n",
    "plt.axhline(y=np.min(scores))\n",
    "np.min(scores)\n",
    "xx=np.arange(0,51)\n",
    "max_x = xx[scores.index(np.min(scores))]\n",
    "plt.axvline(max_x,color='r')"
   ]
  },
  {
   "cell_type": "code",
   "execution_count": 108,
   "metadata": {},
   "outputs": [
    {
     "data": {
      "text/plain": [
       "0.7818874057301463"
      ]
     },
     "execution_count": 108,
     "metadata": {},
     "output_type": "execute_result"
    }
   ],
   "source": [
    "bag = BaggingClassifier(n_estimators=max_x, random_state=0)"
   ]
  },
  {
   "cell_type": "code",
   "execution_count": 133,
   "metadata": {},
   "outputs": [
    {
     "name": "stdout",
     "output_type": "stream",
     "text": [
      "1 0.43786055859010153\n",
      "2 0.37921161452722807\n",
      "3 0.37921161452722807\n",
      "4 0.36287306814265363\n",
      "5 0.35336345970497274\n",
      "6 0.3431768966251759\n",
      "7 0.33497048640280247\n",
      "8 0.3261782825723264\n",
      "9 0.31488717097896\n",
      "10 0.3096866165328521\n",
      "11 0.30585155804852127\n",
      "12 0.3025212241215338\n",
      "13 0.3049572527182711\n",
      "14 0.29741338618020363\n",
      "15 0.29649167210433747\n",
      "16 0.2938702294643817\n",
      "17 0.29304688747900587\n",
      "18 0.29067449286026725\n",
      "19 0.29175001883129104\n"
     ]
    }
   ],
   "source": [
    "scores=[]\n",
    "for i in np.arange(1,20):\n",
    "    kf = KFold(n_splits=3, shuffle=True, random_state=0)\n",
    "    adab = AdaBoostClassifier(n_estimators=i, random_state=0)\n",
    "    results = cross_val_score(adab, xs, y, cv=kf, scoring='f1_weighted')\n",
    "    scores.append(1-np.mean(results))\n",
    "    print(i,1-np.mean(results))"
   ]
  },
  {
   "cell_type": "code",
   "execution_count": 134,
   "metadata": {},
   "outputs": [
    {
     "data": {
      "text/plain": [
       "19"
      ]
     },
     "execution_count": 134,
     "metadata": {},
     "output_type": "execute_result"
    }
   ],
   "source": [
    "len(scores)"
   ]
  },
  {
   "cell_type": "code",
   "execution_count": 137,
   "metadata": {},
   "outputs": [
    {
     "data": {
      "text/plain": [
       "<matplotlib.lines.Line2D at 0x26a00105d08>"
      ]
     },
     "execution_count": 137,
     "metadata": {},
     "output_type": "execute_result"
    },
    {
     "data": {
      "image/png": "[encoded data removed]",
      "text/plain": [
       "<Figure size 432x288 with 1 Axes>"
      ]
     },
     "metadata": {
      "needs_background": "light"
     },
     "output_type": "display_data"
    }
   ],
   "source": [
    "xx=np.arange(1,20)\n",
    "plt.plot(xx,scores)\n",
    "plt.axhline(np.min(scores))\n",
    "np.min(scores)\n",
    "max_x = xx[scores.index(np.min(scores))]\n",
    "plt.axvline(max_x,color='r')"
   ]
  },
  {
   "cell_type": "code",
   "execution_count": 138,
   "metadata": {},
   "outputs": [
    {
     "data": {
      "text/plain": [
       "18"
      ]
     },
     "execution_count": 138,
     "metadata": {},
     "output_type": "execute_result"
    }
   ],
   "source": [
    "max_x"
   ]
  },
  {
   "cell_type": "code",
   "execution_count": 139,
   "metadata": {},
   "outputs": [
    {
     "data": {
      "text/plain": [
       "0.7121048883370159"
      ]
     },
     "execution_count": 139,
     "metadata": {},
     "output_type": "execute_result"
    }
   ],
   "source": [
    "adab = AdaBoostClassifier(n_estimators=max_x, random_state=0)"
   ]
  },
  {
   "cell_type": "code",
   "execution_count": 123,
   "metadata": {},
   "outputs": [
    {
     "name": "stdout",
     "output_type": "stream",
     "text": [
      "1 0.3610520181913752\n",
      "2 0.3494311053996282\n",
      "3 0.34332589704153793\n",
      "4 0.3392790058861045\n",
      "5 0.3372403940853973\n",
      "6 0.3357783285163465\n",
      "7 0.33500921342212575\n",
      "8 0.3343512137529757\n",
      "9 0.3337845795787219\n",
      "10 0.3333490377612909\n",
      "11 0.3329624981725202\n",
      "12 0.33239679188986904\n",
      "13 0.3320183729897175\n",
      "14 0.3317721640059643\n",
      "15 0.33171832326484385\n",
      "16 0.3315094069125527\n",
      "17 0.33125491581165933\n",
      "18 0.3308994942313742\n",
      "19 0.33059666741005433\n",
      "20 0.3303000410439165\n"
     ]
    }
   ],
   "source": [
    "lr=LogisticRegression()\n",
    "scores=[]\n",
    "for i in np.arange(1,21):\n",
    "    kf = KFold(n_splits=3, shuffle=True, random_state=0)\n",
    "    adab = AdaBoostClassifier(base_estimator=lr,n_estimators=i, random_state=0)\n",
    "    results = cross_val_score(adab, xs, y, cv=kf, scoring='f1_weighted')\n",
    "    scores.append(1-np.mean(results))\n",
    "    print(i,1-np.mean(results))"
   ]
  },
  {
   "cell_type": "code",
   "execution_count": 126,
   "metadata": {},
   "outputs": [
    {
     "data": {
      "text/plain": [
       "<matplotlib.lines.Line2D at 0x26a00021508>"
      ]
     },
     "execution_count": 126,
     "metadata": {},
     "output_type": "execute_result"
    },
    {
     "data": {
      "image/png": "[encoded data removed]",
      "text/plain": [
       "<Figure size 432x288 with 1 Axes>"
      ]
     },
     "metadata": {
      "needs_background": "light"
     },
     "output_type": "display_data"
    }
   ],
   "source": [
    "xx=np.arange(1,21)\n",
    "plt.plot(xx,scores)\n",
    "plt.axhline(np.min(scores))\n",
    "np.min(scores)\n",
    "max_x = xx[scores.index(np.min(scores))]\n",
    "plt.axvline(max_x,color='r')"
   ]
  },
  {
   "cell_type": "code",
   "execution_count": 127,
   "metadata": {},
   "outputs": [
    {
     "data": {
      "text/plain": [
       "0.6713383123641875"
      ]
     },
     "execution_count": 127,
     "metadata": {},
     "output_type": "execute_result"
    }
   ],
   "source": [
    "adablog = AdaBoostClassifier(base_estimator=lr,n_estimators=max_x, random_state=0)"
   ]
  },
  {
   "cell_type": "code",
   "execution_count": 129,
   "metadata": {},
   "outputs": [
    {
     "name": "stdout",
     "output_type": "stream",
     "text": [
      "1 0.37921161452722807\n",
      "2 0.37921161452722807\n",
      "3 0.36656143054836876\n",
      "4 0.35422000638427253\n",
      "5 0.3401120626601779\n",
      "6 0.3189669293230807\n",
      "7 0.31707086932480166\n",
      "8 0.31515101933702416\n",
      "9 0.3099002598500521\n",
      "10 0.3060687495655977\n",
      "11 0.3009158400204063\n",
      "12 0.29473920678625065\n",
      "13 0.2957086310591742\n",
      "14 0.29225156283809073\n",
      "15 0.28935784488973226\n",
      "16 0.287350987066299\n",
      "17 0.28553157066712587\n",
      "18 0.28463832429120484\n",
      "19 0.28120038003024916\n",
      "20 0.2802886556806422\n"
     ]
    }
   ],
   "source": [
    "scores=[]\n",
    "for i in np.arange(1,21):\n",
    "    kf = KFold(n_splits=3, shuffle=True, random_state=0)\n",
    "    gb = GradientBoostingClassifier(n_estimators=i, random_state=0)\n",
    "    results = cross_val_score(gb, xs, y, cv=kf, scoring='f1_weighted')\n",
    "    scores.append(1-np.mean(results))\n",
    "    print(i,1-np.mean(results))"
   ]
  },
  {
   "cell_type": "code",
   "execution_count": 131,
   "metadata": {},
   "outputs": [
    {
     "data": {
      "text/plain": [
       "0.7283202162043716"
      ]
     },
     "execution_count": 131,
     "metadata": {},
     "output_type": "execute_result"
    }
   ],
   "source": [
    "gb = GradientBoostingClassifier(n_estimators=20, random_state=0)"
   ]
  },
  {
   "cell_type": "code",
   "execution_count": 141,
   "metadata": {},
   "outputs": [
    {
     "data": {
      "text/plain": [
       "\"models.append(('Votingclass',vc))\""
      ]
     },
     "execution_count": 141,
     "metadata": {},
     "output_type": "execute_result"
    }
   ],
   "source": [
    "models=[]\n",
    "models.append(('Log',lr))\n",
    "models.append(('RF',rf))\n",
    "models.append(('BAG',bag))\n",
    "models.append(('AdaB',adab))\n",
    "models.append(('LogisAdaB',adablog))\n",
    "models.append(('GBoost',gb))\n",
    "'''models.append(('Votingclass',vc))'''"
   ]
  },
  {
   "cell_type": "code",
   "execution_count": 142,
   "metadata": {},
   "outputs": [
    {
     "name": "stdout",
     "output_type": "stream",
     "text": [
      "Log\n",
      "0.6970897021521226   1.251692607452956e-07\n",
      "RF\n",
      "0.7318484645155948   0.0014498767799453643\n",
      "BAG\n",
      "0.7473238611381167   0.0014450723759460746\n",
      "AdaB\n",
      "0.7378242726385208   0.0013467172009511879\n",
      "LogisAdaB\n",
      "0.7241994099020334   0.0018537782103140664\n",
      "GBoost\n",
      "0.7234513989715874   0.0015306686029397706\n"
     ]
    },
    {
     "data": {
      "image/png": "[encoded data removed]",
      "text/plain": [
       "<Figure size 432x288 with 1 Axes>"
      ]
     },
     "metadata": {
      "needs_background": "light"
     },
     "output_type": "display_data"
    }
   ],
   "source": [
    "scores=[]\n",
    "from sklearn.model_selection import KFold\n",
    "from sklearn.model_selection import cross_val_score\n",
    "for name,model in models:\n",
    "    kf = KFold(n_splits=3, shuffle=True, random_state=0)\n",
    "    cv_score=cross_val_score(model,xs,y,cv=kf,scoring='f1_weighted')\n",
    "    scores.append(cv_score)\n",
    "    print(name)\n",
    "    print(np.mean(scores), \" \",np.var(scores,ddof=1))\n",
    "fig=plt.figure()\n",
    "ax=fig.add_subplot(111)\n",
    "plt.boxplot(scores)\n",
    "plt.show()"
   ]
  },
  {
   "cell_type": "code",
   "execution_count": null,
   "metadata": {},
   "outputs": [],
   "source": []
  }
 ],
 "metadata": {
  "hide_input": false,
  "kernelspec": {
   "display_name": "Python 3",
   "language": "python",
   "name": "python3"
  },
  "language_info": {
   "codemirror_mode": {
    "name": "ipython",
    "version": 3
   },
   "file_extension": ".py",
   "mimetype": "text/x-python",
   "name": "python",
   "nbconvert_exporter": "python",
   "pygments_lexer": "ipython3",
   "version": "3.7.6"
  },
  "nbTranslate": {
   "displayLangs": [
    "*"
   ],
   "hotkey": "alt-t",
   "langInMainMenu": true,
   "sourceLang": "en",
   "targetLang": "fr",
   "useGoogleTranslate": true
  }
 },
 "nbformat": 4,
 "nbformat_minor": 2
}
