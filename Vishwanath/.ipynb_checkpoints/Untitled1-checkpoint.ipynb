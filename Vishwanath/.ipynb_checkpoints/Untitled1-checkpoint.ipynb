{
 "cells": [
  {
   "cell_type": "code",
   "execution_count": 24,
   "metadata": {},
   "outputs": [],
   "source": [
    "import pandas as pd\n",
    "import numpy as np\n",
    "import seaborn as sns\n",
    "import matplotlib.pyplot as plt\n",
    "import re\n",
    "from sklearn.preprocessing import LabelEncoder,StandardScaler\n",
    "from sklearn.impute import KNNImputer\n",
    "from sklearn.model_selection import KFold\n",
    "from sklearn.model_selection import train_test_split,cross_val_score\n",
    "#model selection from sklearn import model_selection\n",
    "from sklearn.linear_model import LogisticRegression\n",
    "from sklearn.naive_bayes import GaussianNB\n",
    "from sklearn.tree import DecisionTreeClassifier\n",
    "from sklearn.neighbors import KNeighborsClassifier\n",
    "from xgboost import XGBClassifier\n",
    "#ensemble\n",
    "from sklearn.ensemble import RandomForestClassifier,BaggingClassifier,AdaBoostClassifier,GradientBoostingClassifier\n",
    "#metrics\n",
    "from sklearn.metrics import precision_score, recall_score, f1_score, roc_auc_score, accuracy_score, classification_report\n",
    "#pca\n",
    "from sklearn.decomposition import PCA\n",
    "#data_balance\n",
    "from sklearn.utils import resample\n",
    "from imblearn.over_sampling import SMOTE\n",
    "#warnings\n",
    "import warnings\n",
    "warnings.filterwarnings(\"ignore\")"
   ]
  },
  {
   "cell_type": "code",
   "execution_count": 93,
   "metadata": {},
   "outputs": [],
   "source": [
    "import os\n",
    "os.chdir(r'C:\\Users\\VISHY\\Desktop\\Great Learning\\Capstone\\Vehicle-Loan-Default-Prediction\\Data')\n",
    "\n",
    "df = pd.read_csv('train.csv')\n",
    "\n",
    "df=df.drop(['UniqueID','MobileNo_Avl_Flag'],axis=1)"
   ]
  },
  {
   "cell_type": "code",
   "execution_count": 94,
   "metadata": {},
   "outputs": [],
   "source": [
    "df['Employment.Type'].fillna('Other',inplace=True)\n",
    "\n",
    "\n",
    "def credit_risk(df):\n",
    "    d1=[]\n",
    "    d2=[]\n",
    "    for i in df:\n",
    "        p = i.split(\"-\")\n",
    "        if len(p) == 1:\n",
    "            d1.append(p[0])\n",
    "            d2.append('unknown')\n",
    "        else:\n",
    "            d1.append(p[1])\n",
    "            d2.append(p[0])\n",
    "\n",
    "    return d2\n",
    "\n",
    "sub_risk = {'unknown':0, 'A':13, 'B':12, 'C':11,'D':10,'E':9,'F':8,'G':7,'H':6,'I':5,'J':4,'K':3, 'L':2,'M':1}\n",
    "\n",
    "\n",
    "df.loc[:,'credit_risk_grade']  = credit_risk(df[\"PERFORM_CNS.SCORE.DESCRIPTION\"])\n",
    "df.loc[:,'sub_risk_label'] = df['credit_risk_grade'].apply(lambda x: sub_risk[x])\n",
    "\n",
    "df['ltv.BINS']=pd.cut(df['ltv'],3,labels=['Low','Medium','High']).astype(np.object)\n",
    "le=LabelEncoder()\n",
    "df['ltv.BINS']=le.fit_transform(df['ltv.BINS'])\n",
    "df['Employment.Type']=le.fit_transform(df['Employment.Type'])\n",
    "\n",
    "df=df.drop('credit_risk_grade',axis=1)\n",
    "\n",
    "df['Not_Scored']=np.where(df['PERFORM_CNS.SCORE.DESCRIPTION'].str.contains('Not Scored'),1,0)\n",
    "df['Very_Low']=np.where(df['PERFORM_CNS.SCORE.DESCRIPTION'].str.contains('Very Low'),1,0)\n",
    "df['Very_High']=np.where(df['PERFORM_CNS.SCORE.DESCRIPTION'].str.contains('Very High'),1,0)\n",
    "df['No_History']=np.where(df['PERFORM_CNS.SCORE.DESCRIPTION'].str.contains('No Bureau'),1,0)\n",
    "df=df.drop('PERFORM_CNS.SCORE.DESCRIPTION',axis=1)\n",
    "df['ACTIVE.ACCTS']=df['PRI.ACTIVE.ACCTS']+df['SEC.ACTIVE.ACCTS']\n",
    "df['CURRENT.BALANCE']=df['PRI.CURRENT.BALANCE']+df['SEC.CURRENT.BALANCE']\n",
    "df['DISBURSED.AMOUNT']=df['PRI.DISBURSED.AMOUNT']+df['SEC.DISBURSED.AMOUNT']\n",
    "df['NO.OF.ACCTS']=df['SEC.NO.OF.ACCTS']+df['PRI.NO.OF.ACCTS']\n",
    "df['OVERDUE.ACCTS']=df['PRI.OVERDUE.ACCTS']+df['SEC.OVERDUE.ACCTS']\n",
    "df['SANCTIONED.AMOUNT']=df['PRI.SANCTIONED.AMOUNT']+df['SEC.SANCTIONED.AMOUNT']\n",
    "df['INSTAL.AMT']=df['PRIMARY.INSTAL.AMT']+df['SEC.INSTAL.AMT']\n",
    "\n",
    "df['SANCTION_DISBURSED']=df['SANCTIONED.AMOUNT']-df['DISBURSED.AMOUNT']\n",
    "\n",
    "df['NO_DEACTIVE_ACCOUNTS']=df['NO.OF.ACCTS']-df['ACTIVE.ACCTS']\n",
    "df['NO.OF.ACC.BEF.SIX.MONTH']=df['NO.OF.ACCTS']-df['NEW.ACCTS.IN.LAST.SIX.MONTHS']\n",
    "df['OVERDUE.ACC.BEF.SIX.MONTHS']=df['OVERDUE.ACCTS']-df['DELINQUENT.ACCTS.IN.LAST.SIX.MONTHS']\n",
    "df['CLEAN.ACC']=df['NO.OF.ACCTS']-(df['ACTIVE.ACCTS']+df['OVERDUE.ACCTS'])"
   ]
  },
  {
   "cell_type": "code",
   "execution_count": 95,
   "metadata": {},
   "outputs": [],
   "source": [
    "df['asset_value']=df['disbursed_amount']*(df['ltv']/100)\n",
    "df['value_cost']=df['asset_cost']-df['asset_value']\n",
    "df['value_per_cost']=df['value_cost']/df['asset_value']\n",
    "df['extra_finance']=df['asset_cost']*(df['ltv']/100)-df['disbursed_amount']\n",
    "df['asset_disburse']=(df['asset_cost']-df['disbursed_amount'])/df['disbursed_amount']\n",
    "df['sixmmonths_dfault']=df['NEW.ACCTS.IN.LAST.SIX.MONTHS']-df['DELINQUENT.ACCTS.IN.LAST.SIX.MONTHS']\n",
    "\n",
    "df['Current_pincode_ID']=df['Current_pincode_ID'].astype(np.object)\n",
    "df['Employee_code_ID']=df['Employee_code_ID'].astype(np.object)\n",
    "df['State_ID']=df['State_ID'].astype(np.object)\n",
    "df['branch_id']=df['branch_id'].astype(np.object)\n",
    "df['manufacturer_id']=df['manufacturer_id'].astype(np.object)\n",
    "df['supplier_id']=df['supplier_id'].astype(np.object)"
   ]
  },
  {
   "cell_type": "code",
   "execution_count": 96,
   "metadata": {},
   "outputs": [],
   "source": [
    "for i in [ 'Aadhar_flag', 'Driving_flag', 'PAN_flag', 'Passport_flag', 'VoterID_flag']:\n",
    "    df[i]=df[i].astype(np.object)\n",
    "df['AVERAGE.ACCT.AGE.YEAR']=df['AVERAGE.ACCT.AGE'].apply(lambda x: int(x.split(\" \")[0][:-3]))\n",
    "df['AVERAGE.ACCT.AGE.MONTH']=df['AVERAGE.ACCT.AGE'].apply(lambda x: int(x.split(\" \")[1][:-3]))\n",
    "\n",
    "df['CREDIT.HISTORY.LENGTH.YEAR']=df['CREDIT.HISTORY.LENGTH'].apply(lambda x: int(x.split(\" \")[0][:-3]))\n",
    "df['CREDIT.HISTORY.LENGTH.MONTH']=df['CREDIT.HISTORY.LENGTH'].apply(lambda x: int(x.split(\" \")[1][:-3]))\n",
    "df['Total_Flag']=df['Driving_flag']+df['Aadhar_flag']+df['PAN_flag']+df['Passport_flag']+df['VoterID_flag']\n",
    "df['Branch_Emp_code']=(df['Employee_code_ID']+df['branch_id']).astype(np.object)\n",
    "df['Pin_Emp_code']=(df['Employee_code_ID']+df['Current_pincode_ID']).astype(np.object)"
   ]
  },
  {
   "cell_type": "code",
   "execution_count": 97,
   "metadata": {},
   "outputs": [],
   "source": [
    "def age(dur):\n",
    "    yr = int(dur.split('-')[2])\n",
    "    if yr >=0 and yr<=19:\n",
    "        return yr+2000\n",
    "    else:\n",
    "         return yr+1900\n",
    "\n",
    "df['Date.of.Birth'] = df['Date.of.Birth'].apply(age)\n",
    "df['DisbursalDate'] = df['DisbursalDate'].apply(age)\n",
    "df['Age']=df['DisbursalDate']-df['Date.of.Birth']\n",
    "df=df.drop(['DisbursalDate','Date.of.Birth'],axis=1)\n",
    "def duration(dur):\n",
    "    yrs = int(dur.split(' ')[0].replace('yrs',''))\n",
    "    mon = int(dur.split(' ')[1].replace('mon',''))\n",
    "    return yrs*12+mon\n",
    "df['AVERAGE.ACCT.AGE'] = df['AVERAGE.ACCT.AGE'].apply(duration)\n",
    "df['CREDIT.HISTORY.LENGTH'] = df['CREDIT.HISTORY.LENGTH'].apply(duration)\n",
    "#df.drop(['AVERAGE.ACCT.AGE','CREDIT.HISTORY.LENGTH'],axis=1,inplace=True)"
   ]
  },
  {
   "cell_type": "code",
   "execution_count": 117,
   "metadata": {},
   "outputs": [],
   "source": [
    "X,y=df.drop('loan_default',axis=1),df['loan_default']\n",
    "X_train,X_test,y_train,y_test = train_test_split(X,y,test_size=0.3,random_state = 42)"
   ]
  },
  {
   "cell_type": "code",
   "execution_count": 118,
   "metadata": {},
   "outputs": [],
   "source": [
    "from sklearn.preprocessing import  RobustScaler\n",
    "rob_scaler = RobustScaler()\n",
    "X_train = rob_scaler.fit_transform(X_train)\n",
    "X_test = rob_scaler.fit_transform(X_test)"
   ]
  },
  {
   "cell_type": "code",
   "execution_count": 122,
   "metadata": {},
   "outputs": [],
   "source": [
    "from sklearn.preprocessing import StandardScaler\n",
    "sc=StandardScaler()\n",
    "X_train=sc.fit_transform(X_train)\n",
    "X_test=sc.transform(X_test)"
   ]
  },
  {
   "cell_type": "code",
   "execution_count": 120,
   "metadata": {},
   "outputs": [],
   "source": [
    "sm = SMOTE(random_state=40)\n",
    "X_train, y_train = sm.fit_sample(X_train, y_train.ravel())"
   ]
  },
  {
   "cell_type": "code",
   "execution_count": 91,
   "metadata": {},
   "outputs": [],
   "source": [
    "classifiers = [\n",
    "    LogisticRegression(),\n",
    "    DecisionTreeClassifier(criterion='entropy',random_state=0),\n",
    "    DecisionTreeClassifier(criterion='gini',random_state=0),\n",
    "    RandomForestClassifier(n_estimators=100),\n",
    "    GaussianNB(),\n",
    "    BaggingClassifier(random_state=0),\n",
    "    AdaBoostClassifier(),\n",
    "    XGBClassifier(random_state=0, n_jobs=-1, learning_rate=0.1,\n",
    "                  n_estimators=100, max_depth=3)\n",
    "]"
   ]
  },
  {
   "cell_type": "code",
   "execution_count": null,
   "metadata": {
    "scrolled": false
   },
   "outputs": [
    {
     "name": "stdout",
     "output_type": "stream",
     "text": [
      "LogisticRegression(C=1.0, class_weight=None, dual=False, fit_intercept=True,\n",
      "                   intercept_scaling=1, l1_ratio=None, max_iter=100,\n",
      "                   multi_class='auto', n_jobs=None, penalty='l2',\n",
      "                   random_state=None, solver='lbfgs', tol=0.0001, verbose=0,\n",
      "                   warm_start=False) \n",
      "\n",
      "accuracy train: 0.6008396785275497 \n",
      "\n",
      "accuracy test: 0.5751497562440133 \n",
      "\n",
      "precision : 0.28565104474088066 \n",
      "\n",
      "f1 score: 0.39445746306673457 \n",
      "\n",
      "-------------------------------------------------------------------------------------------------------\n",
      "DecisionTreeClassifier(ccp_alpha=0.0, class_weight=None, criterion='entropy',\n",
      "                       max_depth=None, max_features=None, max_leaf_nodes=None,\n",
      "                       min_impurity_decrease=0.0, min_impurity_split=None,\n",
      "                       min_samples_leaf=1, min_samples_split=2,\n",
      "                       min_weight_fraction_leaf=0.0, presort='deprecated',\n",
      "                       random_state=0, splitter='best') \n",
      "\n",
      "accuracy train: 0.9999843489556841 \n",
      "\n",
      "accuracy test: 0.6378543754557022 \n",
      "\n",
      "precision : 0.26069102237326536 \n",
      "\n",
      "f1 score: 0.3036534073727905 \n",
      "\n",
      "-------------------------------------------------------------------------------------------------------\n",
      "DecisionTreeClassifier(ccp_alpha=0.0, class_weight=None, criterion='gini',\n",
      "                       max_depth=None, max_features=None, max_leaf_nodes=None,\n",
      "                       min_impurity_decrease=0.0, min_impurity_split=None,\n",
      "                       min_samples_leaf=1, min_samples_split=2,\n",
      "                       min_weight_fraction_leaf=0.0, presort='deprecated',\n",
      "                       random_state=0, splitter='best') \n",
      "\n"
     ]
    }
   ],
   "source": [
    "results = []\n",
    "for item in classifiers:\n",
    "    print(item,\"\\n\")\n",
    "    clf = item\n",
    "    clf.fit(X_train, y_train)\n",
    "    y_pred=clf.predict(X_test)\n",
    "    #print(y_pred)\n",
    "    #results.append(accuracy_score(y_test,y_pred))\n",
    "    results.append(y_pred)\n",
    "    print(\"accuracy train:\",clf.score(X_train,y_train),\"\\n\")\n",
    "    print(\"accuracy test:\",clf.score(X_test,y_test),\"\\n\")\n",
    "    print(\"precision :\",precision_score(y_test,y_pred),\"\\n\")\n",
    "    print(\"f1 score:\",f1_score(y_test,y_pred),\"\\n\")\n",
    "    print(\"-------------------------------------------------------------------------------------------------------\")"
   ]
  },
  {
   "cell_type": "code",
   "execution_count": 110,
   "metadata": {},
   "outputs": [],
   "source": [
    "l=['branch_id', 'supplier_id', 'manufacturer_id', 'Current_pincode_ID', 'State_ID', 'Employee_code_ID', 'Aadhar_flag', 'PAN_flag', 'VoterID_flag', 'Driving_flag', 'Passport_flag', 'Total_Flag', 'Branch_Emp_code', 'Pin_Emp_code']\n",
    "for i in l:\n",
    "    df[l]=df[l].astype(int)"
   ]
  },
  {
   "cell_type": "code",
   "execution_count": 108,
   "metadata": {},
   "outputs": [],
   "source": [
    "pd.set_option('display.max_rows', 500)\n",
    "pd.set_option('display.max_columns', 500)\n",
    "pd.set_option('display.width', 1000)"
   ]
  },
  {
   "cell_type": "code",
   "execution_count": 112,
   "metadata": {},
   "outputs": [
    {
     "name": "stdout",
     "output_type": "stream",
     "text": [
      "disbursed_amount                         int64\n",
      "asset_cost                               int64\n",
      "ltv                                    float64\n",
      "branch_id                                int32\n",
      "supplier_id                              int32\n",
      "manufacturer_id                          int32\n",
      "Current_pincode_ID                       int32\n",
      "Employment.Type                          int32\n",
      "State_ID                                 int32\n",
      "Employee_code_ID                         int32\n",
      "Aadhar_flag                              int32\n",
      "PAN_flag                                 int32\n",
      "VoterID_flag                             int32\n",
      "Driving_flag                             int32\n",
      "Passport_flag                            int32\n",
      "PERFORM_CNS.SCORE                        int64\n",
      "PRI.NO.OF.ACCTS                          int64\n",
      "PRI.ACTIVE.ACCTS                         int64\n",
      "PRI.OVERDUE.ACCTS                        int64\n",
      "PRI.CURRENT.BALANCE                      int64\n",
      "PRI.SANCTIONED.AMOUNT                    int64\n",
      "PRI.DISBURSED.AMOUNT                     int64\n",
      "SEC.NO.OF.ACCTS                          int64\n",
      "SEC.ACTIVE.ACCTS                         int64\n",
      "SEC.OVERDUE.ACCTS                        int64\n",
      "SEC.CURRENT.BALANCE                      int64\n",
      "SEC.SANCTIONED.AMOUNT                    int64\n",
      "SEC.DISBURSED.AMOUNT                     int64\n",
      "PRIMARY.INSTAL.AMT                       int64\n",
      "SEC.INSTAL.AMT                           int64\n",
      "NEW.ACCTS.IN.LAST.SIX.MONTHS             int64\n",
      "DELINQUENT.ACCTS.IN.LAST.SIX.MONTHS      int64\n",
      "AVERAGE.ACCT.AGE                         int64\n",
      "CREDIT.HISTORY.LENGTH                    int64\n",
      "NO.OF_INQUIRIES                          int64\n",
      "loan_default                             int64\n",
      "sub_risk_label                           int64\n",
      "ltv.BINS                                 int32\n",
      "Not_Scored                               int32\n",
      "Very_Low                                 int32\n",
      "Very_High                                int32\n",
      "No_History                               int32\n",
      "ACTIVE.ACCTS                             int64\n",
      "CURRENT.BALANCE                          int64\n",
      "DISBURSED.AMOUNT                         int64\n",
      "NO.OF.ACCTS                              int64\n",
      "OVERDUE.ACCTS                            int64\n",
      "SANCTIONED.AMOUNT                        int64\n",
      "INSTAL.AMT                               int64\n",
      "SANCTION_DISBURSED                       int64\n",
      "NO_DEACTIVE_ACCOUNTS                     int64\n",
      "NO.OF.ACC.BEF.SIX.MONTH                  int64\n",
      "OVERDUE.ACC.BEF.SIX.MONTHS               int64\n",
      "CLEAN.ACC                                int64\n",
      "asset_value                            float64\n",
      "value_cost                             float64\n",
      "value_per_cost                         float64\n",
      "extra_finance                          float64\n",
      "asset_disburse                         float64\n",
      "sixmmonths_dfault                        int64\n",
      "AVERAGE.ACCT.AGE.YEAR                    int64\n",
      "AVERAGE.ACCT.AGE.MONTH                   int64\n",
      "CREDIT.HISTORY.LENGTH.YEAR               int64\n",
      "CREDIT.HISTORY.LENGTH.MONTH              int64\n",
      "Total_Flag                               int32\n",
      "Branch_Emp_code                          int32\n",
      "Pin_Emp_code                             int32\n",
      "Age                                      int64\n",
      "dtype: object\n"
     ]
    }
   ],
   "source": [
    "print(df.dtypes)"
   ]
  },
  {
   "cell_type": "code",
   "execution_count": 65,
   "metadata": {},
   "outputs": [
    {
     "data": {
      "text/plain": [
       "disbursed_amount                 int64\n",
       "asset_cost                       int64\n",
       "ltv                            float64\n",
       "branch_id                       object\n",
       "supplier_id                     object\n",
       "                                ...   \n",
       "CREDIT.HISTORY.LENGTH.MONTH      int64\n",
       "Total_Flag                      object\n",
       "Branch_Emp_code                 object\n",
       "Pin_Emp_code                    object\n",
       "Age                              int64\n",
       "Length: 70, dtype: object"
      ]
     },
     "execution_count": 65,
     "metadata": {},
     "output_type": "execute_result"
    }
   ],
   "source": [
    "df.dtypes"
   ]
  },
  {
   "cell_type": "code",
   "execution_count": null,
   "metadata": {},
   "outputs": [],
   "source": []
  }
 ],
 "metadata": {
  "hide_input": false,
  "kernelspec": {
   "display_name": "Python 3",
   "language": "python",
   "name": "python3"
  },
  "language_info": {
   "codemirror_mode": {
    "name": "ipython",
    "version": 3
   },
   "file_extension": ".py",
   "mimetype": "text/x-python",
   "name": "python",
   "nbconvert_exporter": "python",
   "pygments_lexer": "ipython3",
   "version": "3.7.6"
  },
  "nbTranslate": {
   "displayLangs": [
    "*"
   ],
   "hotkey": "alt-t",
   "langInMainMenu": true,
   "sourceLang": "en",
   "targetLang": "fr",
   "useGoogleTranslate": true
  }
 },
 "nbformat": 4,
 "nbformat_minor": 2
}
