{
 "cells": [
  {
   "cell_type": "code",
   "execution_count": 3,
   "metadata": {},
   "outputs": [
    {
     "name": "stderr",
     "output_type": "stream",
     "text": [
      "Using TensorFlow backend.\n"
     ]
    }
   ],
   "source": [
    "import pandas as pd\n",
    "import numpy as np\n",
    "import seaborn as sns\n",
    "import matplotlib.pyplot as plt\n",
    "import re\n",
    "from sklearn.preprocessing import LabelEncoder,StandardScaler\n",
    "from sklearn.impute import KNNImputer\n",
    "from sklearn.model_selection import KFold\n",
    "from sklearn.model_selection import train_test_split,cross_val_score\n",
    "#model selection from sklearn import model_selection\n",
    "from sklearn.linear_model import LogisticRegression\n",
    "from sklearn.naive_bayes import GaussianNB\n",
    "from sklearn.tree import DecisionTreeClassifier\n",
    "from sklearn.neighbors import KNeighborsClassifier\n",
    "#ensemble\n",
    "from sklearn.ensemble import RandomForestClassifier,BaggingClassifier,AdaBoostClassifier,GradientBoostingClassifier\n",
    "#metrics\n",
    "from sklearn.metrics import precision_score, recall_score, f1_score, roc_auc_score, accuracy_score, classification_report\n",
    "#pca\n",
    "from sklearn.decomposition import PCA\n",
    "#data_balance\n",
    "from sklearn.utils import resample\n",
    "from imblearn.over_sampling import SMOTE\n",
    "#warnings\n",
    "import warnings\n",
    "warnings.filterwarnings(\"ignore\")"
   ]
  },
  {
   "cell_type": "code",
   "execution_count": 4,
   "metadata": {},
   "outputs": [],
   "source": [
    "import os\n",
    "os.chdir(r'C:\\Users\\VISHY\\Desktop\\Great Learning\\Capstone\\Vehicle-Loan-Default-Prediction\\Data')\n",
    "\n",
    "df = pd.read_csv('train.csv')\n",
    "\n",
    "df=df.drop(['UniqueID','MobileNo_Avl_Flag'],axis=1)"
   ]
  },
  {
   "cell_type": "code",
   "execution_count": 5,
   "metadata": {},
   "outputs": [],
   "source": [
    "def credit_risk(df):\n",
    "    d1=[]\n",
    "    d2=[]\n",
    "    for i in df:\n",
    "        p = i.split(\"-\")\n",
    "        if len(p) == 1:\n",
    "            d1.append(p[0])\n",
    "            d2.append('unknown')\n",
    "        else:\n",
    "            d1.append(p[1])\n",
    "            d2.append(p[0])\n",
    "\n",
    "    return d1,d2\n",
    "\n",
    "risk_map = {'No Bureau History Available':0, \n",
    "              'Not Scored: No Activity seen on the customer (Inactive)':0,\n",
    "              'Not Scored: Sufficient History Not Available':0,\n",
    "              'Not Scored: No Updates available in last 36 months':0,\n",
    "              'Not Scored: Only a Guarantor':0,\n",
    "              'Not Scored: More than 50 active Accounts found':0,\n",
    "              'Not Scored: Not Enough Info available on the customer':0,\n",
    "              'Very Low Risk':4,\n",
    "              'Low Risk':3,\n",
    "              'Medium Risk':2, \n",
    "              'High Risk':1,\n",
    "              'Very High Risk':0}\n",
    "\n",
    "sub_risk = {'unknown':0, 'A':13, 'B':12, 'C':11,'D':10,'E':9,'F':8,'G':7,'H':6,'I':5,'J':4,'K':3, 'L':2,'M':1}\n",
    "employment_map = {'Self employed':0, 'Salaried':1,np.nan:2}\n",
    "\n",
    "df.loc[:,'credit_risk'],df.loc[:,'credit_risk_grade']  = credit_risk(df[\"PERFORM_CNS.SCORE.DESCRIPTION\"])\n",
    "df.loc[:,'credit_risk_label'] = df['credit_risk'].apply(lambda x: risk_map[x])\n",
    "df.loc[:,'sub_risk_label'] = df['credit_risk_grade'].apply(lambda x: sub_risk[x])\n",
    "\n",
    "df.loc[:,'employment_label'] = df['Employment.Type'].apply(lambda x: employment_map[x])\n",
    "\n",
    "df=df.drop(['PERFORM_CNS.SCORE.DESCRIPTION', 'credit_risk', 'credit_risk_grade','Employment.Type'],axis=1)"
   ]
  },
  {
   "cell_type": "code",
   "execution_count": 6,
   "metadata": {},
   "outputs": [],
   "source": [
    "def duration(dur):\n",
    "    yrs = int(dur.split(' ')[0].replace('yrs',''))\n",
    "    mon = int(dur.split(' ')[1].replace('mon',''))\n",
    "    return yrs*12+mon"
   ]
  },
  {
   "cell_type": "code",
   "execution_count": 7,
   "metadata": {},
   "outputs": [],
   "source": [
    "df['AVERAGE.ACCT.AGE'] = df['AVERAGE.ACCT.AGE'].apply(duration)\n",
    "df['CREDIT.HISTORY.LENGTH'] = df['CREDIT.HISTORY.LENGTH'].apply(duration)\n",
    "#df.drop(['AVERAGE.ACCT.AGE','CREDIT.HISTORY.LENGTH'],axis=1,inplace=True)"
   ]
  },
  {
   "cell_type": "code",
   "execution_count": 8,
   "metadata": {},
   "outputs": [],
   "source": [
    "def age(dur):\n",
    "    yr = int(dur.split('-')[2])\n",
    "    if yr >=0 and yr<=19:\n",
    "        return yr+2000\n",
    "    else:\n",
    "         return yr+1900\n",
    "\n",
    "df['Date.of.Birth'] = df['Date.of.Birth'].apply(age)\n",
    "df['DisbursalDate'] = df['DisbursalDate'].apply(age)\n",
    "df['Age']=df['DisbursalDate']-df['Date.of.Birth']\n",
    "df=df.drop(['DisbursalDate','Date.of.Birth'],axis=1)"
   ]
  },
  {
   "cell_type": "markdown",
   "metadata": {},
   "source": [
    "## Stats"
   ]
  },
  {
   "cell_type": "code",
   "execution_count": 75,
   "metadata": {},
   "outputs": [],
   "source": [
    "x=df.drop('loan_default',axis=1)"
   ]
  },
  {
   "cell_type": "code",
   "execution_count": 76,
   "metadata": {},
   "outputs": [
    {
     "name": "stdout",
     "output_type": "stream",
     "text": [
      "disbursed_amount           22.826208425185122\n",
      "ltv           46.32249477428706\n",
      "branch_id           2.183232069061153\n",
      "manufacturer_id           10.678790232313444\n",
      "Current_pincode_ID           3.728825371881061\n",
      "State_ID           3.9673051907494594\n",
      "Employee_code_ID           3.5761251182121567\n",
      "Aadhar_flag           28.135906747251592\n",
      "PAN_flag           1.1363918363514285\n",
      "VoterID_flag           5.211578591388776\n",
      "Driving_flag           1.490875180238482\n",
      "Passport_flag           1.0474198645502713\n",
      "PRI.NO.OF.ACCTS           3.2195591224951916\n",
      "PRI.ACTIVE.ACCTS           5.748753958098962\n",
      "PRI.OVERDUE.ACCTS           1.7880035915030983\n",
      "PRI.CURRENT.BALANCE           1.5743567234015503\n",
      "PRI.DISBURSED.AMOUNT           1.296880905305863\n",
      "SEC.NO.OF.ACCTS           3.4749000377879313\n",
      "SEC.ACTIVE.ACCTS           3.7769655528132127\n",
      "SEC.OVERDUE.ACCTS           1.4362019295197335\n",
      "SEC.CURRENT.BALANCE           7.6117264849828565\n",
      "SEC.DISBURSED.AMOUNT           8.271729445484562\n",
      "PRIMARY.INSTAL.AMT           1.0999762528544734\n",
      "SEC.INSTAL.AMT           1.0721971521735423\n",
      "NEW.ACCTS.IN.LAST.SIX.MONTHS           2.7975927168957253\n",
      "DELINQUENT.ACCTS.IN.LAST.SIX.MONTHS           1.4956391112747016\n",
      "AVERAGE.ACCT.AGE           5.309608622166836\n",
      "CREDIT.HISTORY.LENGTH           6.503275081780647\n",
      "NO.OF_INQUIRIES           1.1881234764857624\n",
      "sub_risk_label           2.2946449655187307\n",
      "employment_label           1.863378089904369\n",
      "Age           14.002344337458242\n",
      "['disbursed_amount', 'ltv', 'manufacturer_id', 'Aadhar_flag', 'Age']\n"
     ]
    }
   ],
   "source": [
    "from statsmodels.stats.outliers_influence import variance_inflation_factor\n",
    "feats=[]\n",
    "vif=0\n",
    "for i in range(x.shape[1]):\n",
    "    vif=variance_inflation_factor(x.values, i)\n",
    "    print(x.columns[i],\"         \", vif)\n",
    "    if (vif>10):\n",
    "        feats.append(x.columns[i])\n",
    "print(feats)"
   ]
  },
  {
   "cell_type": "code",
   "execution_count": 9,
   "metadata": {},
   "outputs": [],
   "source": [
    "df=df.drop(['asset_cost','credit_risk_label','PRI.SANCTIONED.AMOUNT','SEC.SANCTIONED.AMOUNT'],axis=1)"
   ]
  },
  {
   "cell_type": "code",
   "execution_count": 10,
   "metadata": {},
   "outputs": [],
   "source": [
    "df=df.drop(['PERFORM_CNS.SCORE','supplier_id'],axis=1)"
   ]
  },
  {
   "cell_type": "code",
   "execution_count": 31,
   "metadata": {},
   "outputs": [],
   "source": [
    "from sklearn.feature_selection import SelectKBest\n",
    "from sklearn.feature_selection import chi2, f_classif"
   ]
  },
  {
   "cell_type": "code",
   "execution_count": 32,
   "metadata": {},
   "outputs": [
    {
     "data": {
      "text/plain": [
       "Index(['disbursed_amount', 'ltv', 'branch_id', 'manufacturer_id',\n",
       "       'Current_pincode_ID', 'State_ID', 'Employee_code_ID', 'Aadhar_flag',\n",
       "       'PAN_flag', 'VoterID_flag', 'Driving_flag', 'Passport_flag',\n",
       "       'PRI.NO.OF.ACCTS', 'PRI.ACTIVE.ACCTS', 'PRI.OVERDUE.ACCTS',\n",
       "       'PRI.CURRENT.BALANCE', 'PRI.DISBURSED.AMOUNT', 'SEC.NO.OF.ACCTS',\n",
       "       'SEC.ACTIVE.ACCTS', 'SEC.OVERDUE.ACCTS', 'SEC.CURRENT.BALANCE',\n",
       "       'SEC.DISBURSED.AMOUNT', 'PRIMARY.INSTAL.AMT', 'SEC.INSTAL.AMT',\n",
       "       'NEW.ACCTS.IN.LAST.SIX.MONTHS', 'DELINQUENT.ACCTS.IN.LAST.SIX.MONTHS',\n",
       "       'AVERAGE.ACCT.AGE', 'CREDIT.HISTORY.LENGTH', 'NO.OF_INQUIRIES',\n",
       "       'loan_default', 'sub_risk_label', 'employment_label', 'Age'],\n",
       "      dtype='object')"
      ]
     },
     "execution_count": 32,
     "metadata": {},
     "output_type": "execute_result"
    }
   ],
   "source": [
    "df.columns"
   ]
  },
  {
   "cell_type": "code",
   "execution_count": 43,
   "metadata": {},
   "outputs": [],
   "source": [
    "num_cols=['disbursed_amount','PRI.NO.OF.ACCTS','PRI.ACTIVE.ACCTS', 'PRI.OVERDUE.ACCTS',\n",
    "       'PRI.CURRENT.BALANCE', 'PRI.DISBURSED.AMOUNT', 'SEC.NO.OF.ACCTS',\n",
    "       'SEC.ACTIVE.ACCTS', 'SEC.OVERDUE.ACCTS', 'SEC.CURRENT.BALANCE',\n",
    "       'SEC.DISBURSED.AMOUNT', 'PRIMARY.INSTAL.AMT', 'SEC.INSTAL.AMT',\n",
    "       'NEW.ACCTS.IN.LAST.SIX.MONTHS', 'DELINQUENT.ACCTS.IN.LAST.SIX.MONTHS',\n",
    "       'AVERAGE.ACCT.AGE', 'CREDIT.HISTORY.LENGTH', 'NO.OF_INQUIRIES','Age']\n",
    "cat_cols=['branch_id', 'manufacturer_id',\n",
    "       'Current_pincode_ID', 'State_ID', 'Employee_code_ID', 'Aadhar_flag',\n",
    "       'PAN_flag', 'VoterID_flag', 'Driving_flag', 'Passport_flag','sub_risk_label', 'employment_label']"
   ]
  },
  {
   "cell_type": "code",
   "execution_count": 61,
   "metadata": {},
   "outputs": [],
   "source": [
    "c = SelectKBest(score_func=chi2, k=12)\n",
    "catcols = c.fit(df[cat_cols],df['loan_default'])\n",
    "n = SelectKBest(score_func=f_classif, k=10)\n",
    "numcols=n.fit(df[num_cols],df['loan_default'])"
   ]
  },
  {
   "cell_type": "code",
   "execution_count": 69,
   "metadata": {},
   "outputs": [
    {
     "data": {
      "text/plain": [
       "<matplotlib.axes._subplots.AxesSubplot at 0x1b88048a648>"
      ]
     },
     "execution_count": 69,
     "metadata": {},
     "output_type": "execute_result"
    },
    {
     "data": {
      "image/png": "[encoded data removed]",
      "text/plain": [
       "<Figure size 864x360 with 1 Axes>"
      ]
     },
     "metadata": {
      "needs_background": "light"
     },
     "output_type": "display_data"
    }
   ],
   "source": [
    "catsc=catcols.scores_\n",
    "plt.figure(figsize=(12,5))\n",
    "sns.barplot(x=catsc,y=cat_cols)"
   ]
  },
  {
   "cell_type": "code",
   "execution_count": 64,
   "metadata": {},
   "outputs": [
    {
     "data": {
      "text/plain": [
       "<matplotlib.axes._subplots.AxesSubplot at 0x1b881a68708>"
      ]
     },
     "execution_count": 64,
     "metadata": {},
     "output_type": "execute_result"
    },
    {
     "data": {
      "image/png": "[encoded data removed]",
      "text/plain": [
       "<Figure size 432x288 with 1 Axes>"
      ]
     },
     "metadata": {
      "needs_background": "light"
     },
     "output_type": "display_data"
    }
   ],
   "source": [
    "sns.barplot(x=numcols.scores_,y=num_cols)"
   ]
  },
  {
   "cell_type": "code",
   "execution_count": 71,
   "metadata": {},
   "outputs": [
    {
     "name": "stdout",
     "output_type": "stream",
     "text": [
      "branch_id 0.0\n",
      "manufacturer_id 1.5277380091688753e-93\n",
      "Current_pincode_ID 0.0\n",
      "State_ID 0.0\n",
      "Employee_code_ID 0.0\n",
      "Aadhar_flag 1.1791998402218374e-89\n",
      "PAN_flag 0.3277743362589148\n",
      "VoterID_flag 5.603683381655361e-99\n",
      "Driving_flag 0.0052012912081583085\n",
      "Passport_flag 0.0002987981770071958\n",
      "sub_risk_label 0.0\n",
      "employment_label 3.1225422343284505e-42\n"
     ]
    }
   ],
   "source": [
    "from scipy.stats import chi2_contingency\n",
    "\n",
    "for i in cat_cols:\n",
    "    pvalue  = chi2_contingency(pd.crosstab(df[i],df['loan_default']))[1]\n",
    "    print(i,pvalue)"
   ]
  },
  {
   "cell_type": "code",
   "execution_count": 153,
   "metadata": {},
   "outputs": [
    {
     "name": "stdout",
     "output_type": "stream",
     "text": [
      "disbursed_amount 8.74561717585509e-309\n",
      "PRI.NO.OF.ACCTS 9.576575137572993e-66\n",
      "PRI.ACTIVE.ACCTS 3.448627479875517e-89\n",
      "PRI.OVERDUE.ACCTS 9.138488408377107e-87\n",
      "PRI.CURRENT.BALANCE 6.221337646272035e-40\n",
      "PRI.DISBURSED.AMOUNT 7.176942237800462e-08\n",
      "SEC.NO.OF.ACCTS 5.1490255376949666e-05\n",
      "SEC.ACTIVE.ACCTS 0.003805646152419518\n",
      "SEC.OVERDUE.ACCTS 0.5081054926877384\n",
      "SEC.CURRENT.BALANCE 0.0075643427363124875\n",
      "SEC.DISBURSED.AMOUNT 0.0025523226185338705\n",
      "PRIMARY.INSTAL.AMT 2.958254960232989e-07\n",
      "SEC.INSTAL.AMT 0.4546434321302706\n",
      "NEW.ACCTS.IN.LAST.SIX.MONTHS 9.30229371021266e-46\n",
      "DELINQUENT.ACCTS.IN.LAST.SIX.MONTHS 3.2892517686894386e-62\n",
      "AVERAGE.ACCT.AGE 5.261091482095756e-33\n",
      "CREDIT.HISTORY.LENGTH 4.6500173864982836e-92\n",
      "NO.OF_INQUIRIES 7.912566786376203e-99\n",
      "Age 1.6119724395993934e-72\n"
     ]
    }
   ],
   "source": [
    "from scipy.stats import ttest_ind\n",
    "\n",
    "for i in num_cols:\n",
    "    df1=df.groupby('loan_default').get_group(0)\n",
    "    df2=df.groupby('loan_default').get_group(1)\n",
    "    t,pvalue=ttest_ind(df1[i],df2[i])\n",
    "    print(i,pvalue)"
   ]
  },
  {
   "cell_type": "code",
   "execution_count": 11,
   "metadata": {},
   "outputs": [],
   "source": [
    "df=df.drop(['SEC.OVERDUE.ACCTS','SEC.INSTAL.AMT','PAN_flag'],axis=1)"
   ]
  },
  {
   "cell_type": "code",
   "execution_count": 70,
   "metadata": {},
   "outputs": [
    {
     "data": {
      "text/plain": [
       "array([1.42125088e+04, 1.03815866e+03, 2.77680338e+05, 1.49069966e+03,\n",
       "       6.10693030e+04, 6.44069100e+01, 9.02570591e-01, 3.81535253e+02,\n",
       "       7.71788310e+00, 1.34465204e+01, 7.93877514e+03, 9.75925002e+01])"
      ]
     },
     "execution_count": 70,
     "metadata": {},
     "output_type": "execute_result"
    }
   ],
   "source": [
    "catsc"
   ]
  },
  {
   "cell_type": "code",
   "execution_count": 12,
   "metadata": {},
   "outputs": [],
   "source": [
    "df_pivot=pd.pivot_table(df, values=['ltv'],index='manufacturer_id',columns=['loan_default'],aggfunc='mean')\n",
    "df_pivot=df_pivot['ltv'].sort_values(by=1, ascending=False)"
   ]
  },
  {
   "cell_type": "code",
   "execution_count": 13,
   "metadata": {},
   "outputs": [
    {
     "data": {
      "text/html": [
       "<div>\n",
       "<style scoped>\n",
       "    .dataframe tbody tr th:only-of-type {\n",
       "        vertical-align: middle;\n",
       "    }\n",
       "\n",
       "    .dataframe tbody tr th {\n",
       "        vertical-align: top;\n",
       "    }\n",
       "\n",
       "    .dataframe thead th {\n",
       "        text-align: right;\n",
       "    }\n",
       "</style>\n",
       "<table border=\"1\" class=\"dataframe\">\n",
       "  <thead>\n",
       "    <tr style=\"text-align: right;\">\n",
       "      <th>loan_default</th>\n",
       "      <th>0</th>\n",
       "      <th>1</th>\n",
       "      <th>Count</th>\n",
       "    </tr>\n",
       "    <tr>\n",
       "      <th>manufacturer_id</th>\n",
       "      <th></th>\n",
       "      <th></th>\n",
       "      <th></th>\n",
       "    </tr>\n",
       "  </thead>\n",
       "  <tbody>\n",
       "    <tr>\n",
       "      <th>86</th>\n",
       "      <td>76.393866</td>\n",
       "      <td>79.736777</td>\n",
       "      <td>109534</td>\n",
       "    </tr>\n",
       "    <tr>\n",
       "      <th>45</th>\n",
       "      <td>75.391333</td>\n",
       "      <td>78.602826</td>\n",
       "      <td>56626</td>\n",
       "    </tr>\n",
       "    <tr>\n",
       "      <th>120</th>\n",
       "      <td>72.980345</td>\n",
       "      <td>75.330544</td>\n",
       "      <td>9658</td>\n",
       "    </tr>\n",
       "    <tr>\n",
       "      <th>51</th>\n",
       "      <td>70.633837</td>\n",
       "      <td>72.725876</td>\n",
       "      <td>27204</td>\n",
       "    </tr>\n",
       "    <tr>\n",
       "      <th>48</th>\n",
       "      <td>68.009257</td>\n",
       "      <td>69.942563</td>\n",
       "      <td>16710</td>\n",
       "    </tr>\n",
       "    <tr>\n",
       "      <th>145</th>\n",
       "      <td>68.549727</td>\n",
       "      <td>69.208590</td>\n",
       "      <td>778</td>\n",
       "    </tr>\n",
       "    <tr>\n",
       "      <th>49</th>\n",
       "      <td>66.178054</td>\n",
       "      <td>68.448292</td>\n",
       "      <td>10220</td>\n",
       "    </tr>\n",
       "    <tr>\n",
       "      <th>67</th>\n",
       "      <td>62.239830</td>\n",
       "      <td>62.380918</td>\n",
       "      <td>2405</td>\n",
       "    </tr>\n",
       "    <tr>\n",
       "      <th>153</th>\n",
       "      <td>48.510000</td>\n",
       "      <td>48.272500</td>\n",
       "      <td>12</td>\n",
       "    </tr>\n",
       "    <tr>\n",
       "      <th>152</th>\n",
       "      <td>71.696667</td>\n",
       "      <td>NaN</td>\n",
       "      <td>6</td>\n",
       "    </tr>\n",
       "    <tr>\n",
       "      <th>156</th>\n",
       "      <td>75.250000</td>\n",
       "      <td>NaN</td>\n",
       "      <td>1</td>\n",
       "    </tr>\n",
       "  </tbody>\n",
       "</table>\n",
       "</div>"
      ],
      "text/plain": [
       "loan_default             0          1   Count\n",
       "manufacturer_id                              \n",
       "86               76.393866  79.736777  109534\n",
       "45               75.391333  78.602826   56626\n",
       "120              72.980345  75.330544    9658\n",
       "51               70.633837  72.725876   27204\n",
       "48               68.009257  69.942563   16710\n",
       "145              68.549727  69.208590     778\n",
       "49               66.178054  68.448292   10220\n",
       "67               62.239830  62.380918    2405\n",
       "153              48.510000  48.272500      12\n",
       "152              71.696667        NaN       6\n",
       "156              75.250000        NaN       1"
      ]
     },
     "execution_count": 13,
     "metadata": {},
     "output_type": "execute_result"
    }
   ],
   "source": [
    "df_pivot['Count']=df['manufacturer_id'].value_counts()\n",
    "\n",
    "df_pivot"
   ]
  },
  {
   "cell_type": "code",
   "execution_count": 155,
   "metadata": {},
   "outputs": [
    {
     "data": {
      "text/plain": [
       "Index(['disbursed_amount', 'ltv', 'branch_id', 'manufacturer_id',\n",
       "       'Current_pincode_ID', 'State_ID', 'Employee_code_ID', 'Aadhar_flag',\n",
       "       'VoterID_flag', 'Driving_flag', 'Passport_flag', 'PRI.NO.OF.ACCTS',\n",
       "       'PRI.ACTIVE.ACCTS', 'PRI.OVERDUE.ACCTS', 'PRI.CURRENT.BALANCE',\n",
       "       'PRI.DISBURSED.AMOUNT', 'SEC.NO.OF.ACCTS', 'SEC.ACTIVE.ACCTS',\n",
       "       'SEC.CURRENT.BALANCE', 'SEC.DISBURSED.AMOUNT', 'PRIMARY.INSTAL.AMT',\n",
       "       'NEW.ACCTS.IN.LAST.SIX.MONTHS', 'DELINQUENT.ACCTS.IN.LAST.SIX.MONTHS',\n",
       "       'AVERAGE.ACCT.AGE', 'CREDIT.HISTORY.LENGTH', 'NO.OF_INQUIRIES',\n",
       "       'loan_default', 'sub_risk_label', 'employment_label', 'Age'],\n",
       "      dtype='object')"
      ]
     },
     "execution_count": 155,
     "metadata": {},
     "output_type": "execute_result"
    }
   ],
   "source": [
    "df.columns"
   ]
  },
  {
   "cell_type": "code",
   "execution_count": 194,
   "metadata": {},
   "outputs": [],
   "source": [
    "y=df['loan_default']\n",
    "x=df.drop('loan_default',axis=1)"
   ]
  },
  {
   "cell_type": "code",
   "execution_count": 195,
   "metadata": {},
   "outputs": [],
   "source": [
    "X_train, X_test, y_train, y_test = train_test_split(xs, y, test_size=0.30, random_state=42)"
   ]
  },
  {
   "cell_type": "code",
   "execution_count": 196,
   "metadata": {},
   "outputs": [],
   "source": [
    "from sklearn.preprocessing import StandardScaler\n",
    "sc=StandardScaler()\n",
    "X_train=sc.fit_transform(X_train)\n",
    "X_test=sc.transform(X_test)"
   ]
  },
  {
   "cell_type": "code",
   "execution_count": 197,
   "metadata": {},
   "outputs": [],
   "source": [
    "lr=LogisticRegression()\n",
    "lr.fit(X_train,y_train)\n",
    "y_pred=lr.predict(X_test)"
   ]
  },
  {
   "cell_type": "code",
   "execution_count": 198,
   "metadata": {},
   "outputs": [
    {
     "name": "stdout",
     "output_type": "stream",
     "text": [
      "0.7826068308862424\n",
      "precision : 0.45664739884393063 \n",
      "\n",
      "f1 score: 0.010283780265555844 \n",
      "\n"
     ]
    }
   ],
   "source": [
    "# for Test set\n",
    "model_score = lr.score(X_test,y_test)\n",
    "print(model_score)\n",
    "print(\"precision :\",precision_score(y_test,y_pred),\"\\n\")\n",
    "print(\"f1 score:\",f1_score(y_test,y_pred),\"\\n\")"
   ]
  },
  {
   "cell_type": "code",
   "execution_count": 205,
   "metadata": {},
   "outputs": [],
   "source": [
    "from xgboost import XGBClassifier"
   ]
  },
  {
   "cell_type": "code",
   "execution_count": 201,
   "metadata": {},
   "outputs": [],
   "source": [
    "classifiers = [\n",
    "    LogisticRegression(),\n",
    "    DecisionTreeClassifier(criterion='entropy',random_state=0),\n",
    "    DecisionTreeClassifier(criterion='gini',random_state=0),\n",
    "    RandomForestClassifier(n_estimators=100),\n",
    "    GaussianNB(),\n",
    "    BaggingClassifier(random_state=0),\n",
    "    AdaBoostClassifier(),\n",
    "    XGBClassifier(random_state=0, n_jobs=-1, learning_rate=0.1,\n",
    "                  n_estimators=100, max_depth=3)\n",
    "]"
   ]
  },
  {
   "cell_type": "code",
   "execution_count": 202,
   "metadata": {},
   "outputs": [
    {
     "name": "stdout",
     "output_type": "stream",
     "text": [
      "LogisticRegression(C=1.0, class_weight=None, dual=False, fit_intercept=True,\n",
      "                   intercept_scaling=1, l1_ratio=None, max_iter=100,\n",
      "                   multi_class='auto', n_jobs=None, penalty='l2',\n",
      "                   random_state=None, solver='lbfgs', tol=0.0001, verbose=0,\n",
      "                   warm_start=False) \n",
      "\n",
      "accuracy train: 0.7825828549020569 \n",
      "\n",
      "accuracy test: 0.7826068308862424 \n",
      "\n",
      "precision : 0.45664739884393063 \n",
      "\n",
      "f1 score: 0.010283780265555844 \n",
      "\n",
      "-------------------------------------------------------------------------------------------------------\n",
      "DecisionTreeClassifier(ccp_alpha=0.0, class_weight=None, criterion='entropy',\n",
      "                       max_depth=None, max_features=None, max_leaf_nodes=None,\n",
      "                       min_impurity_decrease=0.0, min_impurity_split=None,\n",
      "                       min_samples_leaf=1, min_samples_split=2,\n",
      "                       min_weight_fraction_leaf=0.0, presort='deprecated',\n",
      "                       random_state=0, splitter='best') \n",
      "\n",
      "accuracy train: 0.9999571096827955 \n",
      "\n",
      "accuracy test: 0.674768038657841 \n",
      "\n",
      "precision : 0.26178769541099345 \n",
      "\n",
      "f1 score: 0.26746095636773465 \n",
      "\n",
      "-------------------------------------------------------------------------------------------------------\n",
      "DecisionTreeClassifier(ccp_alpha=0.0, class_weight=None, criterion='gini',\n",
      "                       max_depth=None, max_features=None, max_leaf_nodes=None,\n",
      "                       min_impurity_decrease=0.0, min_impurity_split=None,\n",
      "                       min_samples_leaf=1, min_samples_split=2,\n",
      "                       min_weight_fraction_leaf=0.0, presort='deprecated',\n",
      "                       random_state=0, splitter='best') \n",
      "\n",
      "accuracy train: 0.9999571096827955 \n",
      "\n",
      "accuracy test: 0.6691209058286989 \n",
      "\n",
      "precision : 0.25985868711878735 \n",
      "\n",
      "f1 score: 0.27105511811023625 \n",
      "\n",
      "-------------------------------------------------------------------------------------------------------\n",
      "RandomForestClassifier(bootstrap=True, ccp_alpha=0.0, class_weight=None,\n",
      "                       criterion='gini', max_depth=None, max_features='auto',\n",
      "                       max_leaf_nodes=None, max_samples=None,\n",
      "                       min_impurity_decrease=0.0, min_impurity_split=None,\n",
      "                       min_samples_leaf=1, min_samples_split=2,\n",
      "                       min_weight_fraction_leaf=0.0, n_estimators=100,\n",
      "                       n_jobs=None, oob_score=False, random_state=None,\n",
      "                       verbose=0, warm_start=False) \n",
      "\n",
      "accuracy train: 0.9999387281182792 \n",
      "\n",
      "accuracy test: 0.7788611377185584 \n",
      "\n",
      "precision : 0.4134915677701437 \n",
      "\n",
      "f1 score: 0.07884707003334922 \n",
      "\n",
      "-------------------------------------------------------------------------------------------------------\n",
      "GaussianNB(priors=None, var_smoothing=1e-09) \n",
      "\n",
      "accuracy train: 0.7293988615684376 \n",
      "\n",
      "accuracy test: 0.7284229488040945 \n",
      "\n",
      "precision : 0.30934963423188694 \n",
      "\n",
      "f1 score: 0.24529201430274136 \n",
      "\n",
      "-------------------------------------------------------------------------------------------------------\n",
      "BaggingClassifier(base_estimator=None, bootstrap=True, bootstrap_features=False,\n",
      "                  max_features=1.0, max_samples=1.0, n_estimators=10,\n",
      "                  n_jobs=None, oob_score=False, random_state=0, verbose=0,\n",
      "                  warm_start=False) \n",
      "\n",
      "accuracy train: 0.9762203827041732 \n",
      "\n",
      "accuracy test: 0.7664803351108697 \n",
      "\n",
      "precision : 0.35159698779537785 \n",
      "\n",
      "f1 score: 0.14221195252599517 \n",
      "\n",
      "-------------------------------------------------------------------------------------------------------\n",
      "AdaBoostClassifier(algorithm='SAMME.R', base_estimator=None, learning_rate=1.0,\n",
      "                   n_estimators=50, random_state=None) \n",
      "\n",
      "accuracy train: 0.7829321046278652 \n",
      "\n",
      "accuracy test: 0.7822637139548515 \n",
      "\n",
      "precision : 0.45788336933045354 \n",
      "\n",
      "f1 score: 0.02708572888718538 \n",
      "\n",
      "-------------------------------------------------------------------------------------------------------\n"
     ]
    }
   ],
   "source": [
    "results = []\n",
    "for item in classifiers:\n",
    "    print(item,\"\\n\")\n",
    "    clf = item\n",
    "    clf.fit(X_train, y_train)\n",
    "    y_pred=clf.predict(X_test)\n",
    "    #print(y_pred)\n",
    "    #results.append(accuracy_score(y_test,y_pred))\n",
    "    results.append(y_pred)\n",
    "    print(\"accuracy train:\",clf.score(X_train,y_train),\"\\n\")\n",
    "    print(\"accuracy test:\",clf.score(X_test,y_test),\"\\n\")\n",
    "    print(\"precision :\",precision_score(y_test,y_pred),\"\\n\")\n",
    "    print(\"f1 score:\",f1_score(y_test,y_pred),\"\\n\")\n",
    "    print(\"-------------------------------------------------------------------------------------------------------\")"
   ]
  },
  {
   "cell_type": "code",
   "execution_count": 206,
   "metadata": {},
   "outputs": [],
   "source": [
    "sm = SMOTE(random_state=40)\n",
    "X_train, y_train = sm.fit_sample(X_train, y_train.ravel())"
   ]
  },
  {
   "cell_type": "code",
   "execution_count": 207,
   "metadata": {},
   "outputs": [],
   "source": [
    "classifiers = [\n",
    "    LogisticRegression(),\n",
    "    DecisionTreeClassifier(criterion='entropy',random_state=0),\n",
    "    DecisionTreeClassifier(criterion='gini',random_state=0),\n",
    "    RandomForestClassifier(n_estimators=100),\n",
    "    GaussianNB(),\n",
    "    BaggingClassifier(random_state=0),\n",
    "    AdaBoostClassifier(),\n",
    "    XGBClassifier(random_state=0, n_jobs=-1, learning_rate=0.1,\n",
    "                  n_estimators=100, max_depth=3)\n",
    "]"
   ]
  },
  {
   "cell_type": "code",
   "execution_count": 208,
   "metadata": {
    "scrolled": false
   },
   "outputs": [
    {
     "name": "stdout",
     "output_type": "stream",
     "text": [
      "LogisticRegression(C=1.0, class_weight=None, dual=False, fit_intercept=True,\n",
      "                   intercept_scaling=1, l1_ratio=None, max_iter=100,\n",
      "                   multi_class='auto', n_jobs=None, penalty='l2',\n",
      "                   random_state=None, solver='lbfgs', tol=0.0001, verbose=0,\n",
      "                   warm_start=False) \n",
      "\n",
      "accuracy train: 0.601946989912902 \n",
      "\n",
      "accuracy test: 0.5713468769210974 \n",
      "\n",
      "precision : 0.28318480300187615 \n",
      "\n",
      "f1 score: 0.39186256414416964 \n",
      "\n",
      "-------------------------------------------------------------------------------------------------------\n",
      "DecisionTreeClassifier(ccp_alpha=0.0, class_weight=None, criterion='entropy',\n",
      "                       max_depth=None, max_features=None, max_leaf_nodes=None,\n",
      "                       min_impurity_decrease=0.0, min_impurity_split=None,\n",
      "                       min_samples_leaf=1, min_samples_split=2,\n",
      "                       min_weight_fraction_leaf=0.0, presort='deprecated',\n",
      "                       random_state=0, splitter='best') \n",
      "\n",
      "accuracy train: 0.9999726106724471 \n",
      "\n",
      "accuracy test: 0.6515361630949147 \n",
      "\n",
      "precision : 0.2579471769729559 \n",
      "\n",
      "f1 score: 0.28647540983606556 \n",
      "\n",
      "-------------------------------------------------------------------------------------------------------\n",
      "DecisionTreeClassifier(ccp_alpha=0.0, class_weight=None, criterion='gini',\n",
      "                       max_depth=None, max_features=None, max_leaf_nodes=None,\n",
      "                       min_impurity_decrease=0.0, min_impurity_split=None,\n",
      "                       min_samples_leaf=1, min_samples_split=2,\n",
      "                       min_weight_fraction_leaf=0.0, presort='deprecated',\n",
      "                       random_state=0, splitter='best') \n",
      "\n",
      "accuracy train: 0.9999726106724471 \n",
      "\n",
      "accuracy test: 0.6484052210959727 \n",
      "\n",
      "precision : 0.2543887147335423 \n",
      "\n",
      "f1 score: 0.28365034516908916 \n",
      "\n",
      "-------------------------------------------------------------------------------------------------------\n",
      "RandomForestClassifier(bootstrap=True, ccp_alpha=0.0, class_weight=None,\n",
      "                       criterion='gini', max_depth=None, max_features='auto',\n",
      "                       max_leaf_nodes=None, max_samples=None,\n",
      "                       min_impurity_decrease=0.0, min_impurity_split=None,\n",
      "                       min_samples_leaf=1, min_samples_split=2,\n",
      "                       min_weight_fraction_leaf=0.0, n_estimators=100,\n",
      "                       n_jobs=None, oob_score=False, random_state=None,\n",
      "                       verbose=0, warm_start=False) \n",
      "\n",
      "accuracy train: 0.9999726106724471 \n",
      "\n",
      "accuracy test: 0.749067150842781 \n",
      "\n",
      "precision : 0.34105291503971996 \n",
      "\n",
      "f1 score: 0.22398090016800778 \n",
      "\n",
      "-------------------------------------------------------------------------------------------------------\n",
      "GaussianNB(priors=None, var_smoothing=1e-09) \n",
      "\n",
      "accuracy train: 0.5546847488398663 \n",
      "\n",
      "accuracy test: 0.37734284529715356 \n",
      "\n",
      "precision : 0.23840619811842834 \n",
      "\n",
      "f1 score: 0.3724442010922033 \n",
      "\n",
      "-------------------------------------------------------------------------------------------------------\n",
      "BaggingClassifier(base_estimator=None, bootstrap=True, bootstrap_features=False,\n",
      "                  max_features=1.0, max_samples=1.0, n_estimators=10,\n",
      "                  n_jobs=None, oob_score=False, random_state=0, verbose=0,\n",
      "                  warm_start=False) \n",
      "\n",
      "accuracy train: 0.9907424072871263 \n",
      "\n",
      "accuracy test: 0.7353424735871446 \n",
      "\n",
      "precision : 0.3095101525754273 \n",
      "\n",
      "f1 score: 0.2256985109586749 \n",
      "\n",
      "-------------------------------------------------------------------------------------------------------\n",
      "AdaBoostClassifier(algorithm='SAMME.R', base_estimator=None, learning_rate=1.0,\n",
      "                   n_estimators=50, random_state=None) \n",
      "\n",
      "accuracy train: 0.6670592470282579 \n",
      "\n",
      "accuracy test: 0.6163666776273464 \n",
      "\n",
      "precision : 0.2883629621550878 \n",
      "\n",
      "f1 score: 0.3715396505691133 \n",
      "\n",
      "-------------------------------------------------------------------------------------------------------\n",
      "XGBClassifier(base_score=0.5, booster='gbtree', colsample_bylevel=1,\n",
      "              colsample_bynode=1, colsample_bytree=1, gamma=0,\n",
      "              learning_rate=0.1, max_delta_step=0, max_depth=3,\n",
      "              min_child_weight=1, missing=None, n_estimators=100, n_jobs=-1,\n",
      "              nthread=None, objective='binary:logistic', random_state=0,\n",
      "              reg_alpha=0, reg_lambda=1, scale_pos_weight=1, seed=None,\n",
      "              silent=None, subsample=1, verbosity=1) \n",
      "\n",
      "accuracy train: 0.7523026598949815 \n",
      "\n",
      "accuracy test: 0.6773414156432728 \n",
      "\n",
      "precision : 0.30279054848711645 \n",
      "\n",
      "f1 score: 0.3341888662713514 \n",
      "\n",
      "-------------------------------------------------------------------------------------------------------\n"
     ]
    }
   ],
   "source": [
    "results = []\n",
    "for item in classifiers:\n",
    "    print(item,\"\\n\")\n",
    "    clf = item\n",
    "    clf.fit(X_train, y_train)\n",
    "    y_pred=clf.predict(X_test)\n",
    "    #print(y_pred)\n",
    "    #results.append(accuracy_score(y_test,y_pred))\n",
    "    results.append(y_pred)\n",
    "    print(\"accuracy train:\",clf.score(X_train,y_train),\"\\n\")\n",
    "    print(\"accuracy test:\",clf.score(X_test,y_test),\"\\n\")\n",
    "    print(\"precision :\",precision_score(y_test,y_pred),\"\\n\")\n",
    "    print(\"f1 score:\",f1_score(y_test,y_pred),\"\\n\")\n",
    "    print(\"-------------------------------------------------------------------------------------------------------\")"
   ]
  },
  {
   "cell_type": "code",
   "execution_count": 212,
   "metadata": {},
   "outputs": [
    {
     "data": {
      "text/plain": [
       "0         20\n",
       "1         10\n",
       "2         21\n",
       "3         14\n",
       "4         19\n",
       "          ..\n",
       "233149    12\n",
       "233150    16\n",
       "233151    20\n",
       "233152    20\n",
       "233153    20\n",
       "Length: 233154, dtype: int64"
      ]
     },
     "execution_count": 212,
     "metadata": {},
     "output_type": "execute_result"
    }
   ],
   "source": [
    "(df == 0).astype(int).sum(axis=1)"
   ]
  },
  {
   "cell_type": "code",
   "execution_count": null,
   "metadata": {},
   "outputs": [],
   "source": []
  }
 ],
 "metadata": {
  "hide_input": false,
  "kernelspec": {
   "display_name": "Python 3",
   "language": "python",
   "name": "python3"
  },
  "language_info": {
   "codemirror_mode": {
    "name": "ipython",
    "version": 3
   },
   "file_extension": ".py",
   "mimetype": "text/x-python",
   "name": "python",
   "nbconvert_exporter": "python",
   "pygments_lexer": "ipython3",
   "version": "3.7.6"
  },
  "nbTranslate": {
   "displayLangs": [
    "*"
   ],
   "hotkey": "alt-t",
   "langInMainMenu": true,
   "sourceLang": "en",
   "targetLang": "fr",
   "useGoogleTranslate": true
  }
 },
 "nbformat": 4,
 "nbformat_minor": 2
}
